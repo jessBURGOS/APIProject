{
 "cells": [
  {
   "cell_type": "code",
   "execution_count": 2,
   "metadata": {},
   "outputs": [],
   "source": [
    "from config_spot import SPOTIPY_CLIENT_ID, SPOTIPY_CLIENT_SECRET, redirect_uri, username, weather_api\n",
    "from spotipy.oauth2 import SpotifyClientCredentials\n",
    "import openweathermapy.core as owm\n",
    "import spotipy\n",
    "import pprint\n",
    "import sys\n",
    "import pandas as pd\n",
    "import spotipy.util as util\n",
    "import simplejson as json"
   ]
  },
  {
   "cell_type": "code",
   "execution_count": 3,
   "metadata": {},
   "outputs": [
    {
     "data": {
      "text/plain": [
       "'spotify:user:spotifycharts:playlist:37i9dQZEVXbMDoHDwVN2tF'"
      ]
     },
     "execution_count": 3,
     "metadata": {},
     "output_type": "execute_result"
    }
   ],
   "source": [
    "playlist_df = pd.read_csv('Top 50 URI.csv')\n",
    "playlist_df = playlist_df.set_index('Country ')\n",
    "\n",
    "playlist_ID_list = list(playlist_df['URI'])\n",
    "\n",
    "playlist_df['URI'][0]"
   ]
  },
  {
   "cell_type": "code",
   "execution_count": 4,
   "metadata": {},
   "outputs": [
    {
     "data": {
      "text/plain": [
       "'BQAkOchT6l9Vptl9CoNVE4otpk5WGyATBfzADBcywcg_HcgSfZsySega5mOZnTBtMkFamGFftbVnZrP-4qAj3JSnXAj3VehMXjzfqpP6kVVi7kcnLZXaipN4S9rZxSHC_vxLxkc9cOpp_cs'"
      ]
     },
     "execution_count": 4,
     "metadata": {},
     "output_type": "execute_result"
    }
   ],
   "source": [
    "util.prompt_for_user_token(username,client_id=SPOTIPY_CLIENT_ID,client_secret=SPOTIPY_CLIENT_SECRET,redirect_uri='http://localhost:8888/')"
   ]
  },
  {
   "cell_type": "code",
   "execution_count": 5,
   "metadata": {
    "collapsed": true
   },
   "outputs": [],
   "source": [
    "token = util.oauth2.SpotifyClientCredentials(client_id= SPOTIPY_CLIENT_ID, client_secret=SPOTIPY_CLIENT_SECRET )\n",
    "\n",
    "cache_token = token.get_access_token()\n",
    "spotify = spotipy.Spotify(cache_token)"
   ]
  },
  {
   "cell_type": "code",
   "execution_count": 6,
   "metadata": {
    "collapsed": true
   },
   "outputs": [],
   "source": [
    "# Generates list containing names of ALL PLAYLISTS in charts \n",
    "# Get TOP SONG from each playlist\n",
    "\n",
    "playlist_list = []\n",
    "top_songs = []\n",
    "top_artists = []\n",
    "song_uri_list = []\n",
    "\n",
    "for ID in playlist_ID_list:\n",
    "    playlist = spotify.user_playlist('spotifycharts', playlist_id = ID)\n",
    "    name = playlist['name']\n",
    "    playlist_list.append(name)\n",
    "    \n",
    "    top_song = playlist['tracks']['items'][0]['track']['name']\n",
    "    top_songs.append(top_song)\n",
    "    \n",
    "    top_artist = playlist['tracks']['items'][0]['track']['artists'][0]['name']\n",
    "    top_artists.append(top_artist)\n",
    "    \n",
    "    song_uri = playlist['tracks']['items'][0]['track']['uri']\n",
    "    song_uri_list.append(song_uri)\n",
    "    \n",
    "    \n",
    "   "
   ]
  },
  {
   "cell_type": "code",
   "execution_count": 7,
   "metadata": {
    "collapsed": true
   },
   "outputs": [],
   "source": [
    "danceability = []\n",
    "energy = []\n",
    "valence = []\n",
    "liveness = []\n",
    "tempo = []\n",
    "\n",
    "for uri in song_uri_list:\n",
    "    features = spotify.audio_features(uri)[0]\n",
    "    danceability.append(features['danceability'])\n",
    "    energy.append(features['energy'])\n",
    "    valence.append(features['valence'])\n",
    "    liveness.append(features['liveness'])\n",
    "    tempo.append(features['tempo'])"
   ]
  },
  {
   "cell_type": "code",
   "execution_count": 8,
   "metadata": {},
   "outputs": [
    {
     "data": {
      "text/plain": [
       "{'base': 'stations',\n",
       " 'clouds': {'all': 0},\n",
       " 'cod': 200,\n",
       " 'coord': {'lat': 48.86, 'lon': 2.35},\n",
       " 'dt': 1523664000,\n",
       " 'id': 2988507,\n",
       " 'main': {'humidity': 87,\n",
       "  'pressure': 1014,\n",
       "  'temp': 8.61,\n",
       "  'temp_max': 10,\n",
       "  'temp_min': 6},\n",
       " 'name': 'Paris',\n",
       " 'sys': {'country': 'FR',\n",
       "  'id': 5610,\n",
       "  'message': 0.0043,\n",
       "  'sunrise': 1523682122,\n",
       "  'sunset': 1523731241,\n",
       "  'type': 1},\n",
       " 'visibility': 10000,\n",
       " 'weather': [{'description': 'mist',\n",
       "   'icon': '50n',\n",
       "   'id': 701,\n",
       "   'main': 'Mist'}],\n",
       " 'wind': {'deg': 60, 'speed': 2.1}}"
      ]
     },
     "execution_count": 8,
     "metadata": {},
     "output_type": "execute_result"
    }
   ],
   "source": [
    "settings = {\"units\": \"metric\", \"appid\": weather_api}\n",
    "\n",
    "current_weather_paris = owm.get_current(\"Paris\", **settings)\n",
    "current_weather_paris"
   ]
  },
  {
   "cell_type": "code",
   "execution_count": null,
   "metadata": {},
   "outputs": [],
   "source": [
    "playlist_df['Top Song']= top_songs\n",
    "playlist_df['Top Artist'] = top_artists\n",
    "playlist_df['Song URI'] = song_uri_list\n",
    "playlist_df['Danceability'] = danceability\n",
    "playlist_df['Energy'] = energy\n",
    "playlist_df['Liveness'] = liveness\n",
    "playlist_df['Valence'] = valence\n",
    "playlist_df['Tempo'] = tempo\n",
    "\n",
    "playlist_df"
   ]
  }
 ],
 "metadata": {
  "kernelspec": {
   "display_name": "Python 3",
   "language": "python",
   "name": "python3"
  },
  "language_info": {
   "codemirror_mode": {
    "name": "ipython",
    "version": 3
   },
   "file_extension": ".py",
   "mimetype": "text/x-python",
   "name": "python",
   "nbconvert_exporter": "python",
   "pygments_lexer": "ipython3",
   "version": "3.6.3"
  }
 },
 "nbformat": 4,
 "nbformat_minor": 2
}
